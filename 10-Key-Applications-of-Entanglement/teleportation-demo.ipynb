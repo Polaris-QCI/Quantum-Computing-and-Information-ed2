{
 "cells": [
  {
   "cell_type": "markdown",
   "metadata": {},
   "source": [
    "# Quantum teleportation\n",
    "\n",
    "This notebook demonstrates the Quantum Teleportation protocol from Chapter 10, Key Applications of Entanglement."
   ]
  },
  {
   "cell_type": "markdown",
   "metadata": {},
   "source": [
    "## 0. Setup\n",
    "\n",
    "The cells below install the packages and import the libraries needed by this demo."
   ]
  },
  {
   "cell_type": "code",
   "execution_count": null,
   "metadata": {},
   "outputs": [],
   "source": [
    "#@title Install Qiskit and other dependencies\n",
    "%pip install qiskit qiskit-aer qiskit-ibm-runtime pylatexenc"
   ]
  },
  {
   "cell_type": "code",
   "execution_count": 8,
   "metadata": {},
   "outputs": [],
   "source": [
    "# Imports\n",
    "\n",
    "from math import cos, sin, pi as π\n",
    "# from ipywidgets import interact\n",
    "from IPython.display import display, Markdown\n",
    "from qiskit_aer import AerSimulator\n",
    "from qiskit_ibm_runtime import SamplerV2 as Sampler\n",
    "from qiskit.circuit import AncillaRegister, ClassicalRegister, QuantumCircuit, QuantumRegister\n",
    "from qiskit.quantum_info import Statevector"
   ]
  },
  {
   "cell_type": "markdown",
   "metadata": {},
   "source": [
    "## 1. Circuit Definition\n",
    "\n",
    "The following cell defines the Quantum Teleportation circuit.\n",
    "\n",
    "Refer to **2. Interaction** for configurable options (parameters)."
   ]
  },
  {
   "cell_type": "code",
   "execution_count": 12,
   "metadata": {},
   "outputs": [
    {
     "data": {
      "image/png": "[encoded data removed]",
      "text/plain": [
       "<Figure size 1207.22x284.278 with 1 Axes>"
      ]
     },
     "metadata": {},
     "output_type": "display_data"
    }
   ],
   "source": [
    "def create_state(θ, φ):\n",
    "    α = cos(θ/2)\n",
    "    β = sin(θ/2) * (cos(φ) + 1j * sin(φ)) # exp(iφ) sin(θ/2)\n",
    "    return Statevector([α, β])\n",
    "\n",
    "\n",
    "def create_circuit(initial_state, save_statevector = True):\n",
    "    q = [q0, q1, q2]= QuantumRegister(3, 'q')\n",
    "    # c = [c0] = ClassicalRegister(1, 'c')\n",
    "    circuit = QuantumCircuit(q)\n",
    "    circuit.initialize(initial_state, q0)\n",
    "    if save_statevector:\n",
    "        circuit.save_statevector(label = \"init\")\n",
    "    circuit.h(q1)\n",
    "    circuit.cx(q1, q2)\n",
    "    if save_statevector:\n",
    "        circuit.save_statevector(label = \"Ψ₀\")\n",
    "    circuit.cx(q0, q1)\n",
    "    if save_statevector:\n",
    "        circuit.save_statevector(label = \"Ψ₁\")\n",
    "    circuit.h(q0)\n",
    "    if save_statevector:\n",
    "        circuit.save_statevector(label = \"Ψ₂\")\n",
    "    # circuit.measure(q0, c0)\n",
    "    # circuit.x(q2).c_if(c0, 1)\n",
    "    circuit.cx(q1, q2)\n",
    "    if save_statevector:\n",
    "        circuit.save_statevector(label = \"Ψ₃\")\n",
    "    # circuit.measure(q1, c1)\n",
    "    # circuit.z(q2).c_if(c1, 1)\n",
    "    circuit.cz(q0, q2)\n",
    "    if save_statevector:\n",
    "        circuit.save_statevector(label = \"Ψ₄\")\n",
    "    # circuit.measure([q0, q1], [c0, c1])\n",
    "    return circuit\n",
    "\n",
    "\n",
    "def statevector_to_latex(statevector):\n",
    "    return statevector.draw('latex_source').replace('|', r'\\|') # escape | for use in Markdown table\n",
    "\n",
    "\n",
    "circuit = create_circuit(create_state(0, 0))\n",
    "display(circuit.draw('mpl'))\n"
   ]
  },
  {
   "cell_type": "markdown",
   "metadata": {},
   "source": [
    "## 2. Interaction\n",
    "\n",
    "The cell below runs the quantum teleportation circuit defined in **1. Circuit Definition**, and shows the state vector resulting at each stage of the computation.\n",
    "\n",
    "You can experiment with $\\theta$ and $\\phi$ to create a general state\n",
    "$$\n",
    "|\\psi\\rangle = \\cos\\frac{\\theta}{2}|0\\rangle + e^{i\\phi}\\sin\\frac{\\theta}{2}|1\\rangle\n",
    "$$\n",
    "and observe the teleportation of the state.\n",
    "For example, use $\\theta=0,\\phi=0$ for the state $|0\\rangle$ and $\\theta=\\pi,\\phi=0$ for the state $|1\\rangle$.\n",
    "Or use $\\theta=\\frac{\\pi}{2},\\phi=\\frac{\\pi}{2}$ for the state $\\frac{1}{\\sqrt{2}}(|0\\rangle + i|1\\rangle)$."
   ]
  },
  {
   "cell_type": "code",
   "execution_count": 13,
   "metadata": {},
   "outputs": [
    {
     "data": {
      "text/markdown": [
       "Stage | State\n",
       "--- | ---\n",
       "init | $\\frac{\\sqrt{2}}{2} \\|000\\rangle+\\frac{\\sqrt{2} i}{2} \\|001\\rangle$\n",
       "Ψ₀ | $\\frac{1}{2} \\|000\\rangle+\\frac{i}{2} \\|001\\rangle+\\frac{1}{2} \\|110\\rangle+\\frac{i}{2} \\|111\\rangle$\n",
       "Ψ₁ | $\\frac{1}{2} \\|000\\rangle+\\frac{i}{2} \\|011\\rangle+\\frac{i}{2} \\|101\\rangle+\\frac{1}{2} \\|110\\rangle$\n",
       "Ψ₂ | $\\frac{\\sqrt{2}}{4} \\|000\\rangle+\\frac{\\sqrt{2}}{4} \\|001\\rangle+\\frac{\\sqrt{2} i}{4} \\|010\\rangle- \\frac{\\sqrt{2} i}{4} \\|011\\rangle+\\frac{\\sqrt{2} i}{4} \\|100\\rangle- \\frac{\\sqrt{2} i}{4} \\|101\\rangle+\\frac{\\sqrt{2}}{4} \\|110\\rangle+\\frac{\\sqrt{2}}{4} \\|111\\rangle$\n",
       "Ψ₃ | $\\frac{\\sqrt{2}}{4} \\|000\\rangle+\\frac{\\sqrt{2}}{4} \\|001\\rangle+\\frac{\\sqrt{2}}{4} \\|010\\rangle+\\frac{\\sqrt{2}}{4} \\|011\\rangle+\\frac{\\sqrt{2} i}{4} \\|100\\rangle- \\frac{\\sqrt{2} i}{4} \\|101\\rangle+\\frac{\\sqrt{2} i}{4} \\|110\\rangle- \\frac{\\sqrt{2} i}{4} \\|111\\rangle$\n",
       "Ψ₄ | $\\frac{\\sqrt{2}}{4} \\|000\\rangle+\\frac{\\sqrt{2}}{4} \\|001\\rangle+\\frac{\\sqrt{2}}{4} \\|010\\rangle+\\frac{\\sqrt{2}}{4} \\|011\\rangle+\\frac{\\sqrt{2} i}{4} \\|100\\rangle+\\frac{\\sqrt{2} i}{4} \\|101\\rangle+\\frac{\\sqrt{2} i}{4} \\|110\\rangle+\\frac{\\sqrt{2} i}{4} \\|111\\rangle$\n"
      ],
      "text/plain": [
       "<IPython.core.display.Markdown object>"
      ]
     },
     "metadata": {},
     "output_type": "display_data"
    }
   ],
   "source": [
    "θ = π/2\n",
    "φ = π/2\n",
    "\n",
    "circuit = create_circuit(create_state(θ, φ))\n",
    "simulator = AerSimulator()\n",
    "result = simulator.run(circuit).result()\n",
    "data = result.data(0)\n",
    "init = statevector_to_latex(data[\"init\"])\n",
    "Ψ0 = statevector_to_latex(data[\"Ψ₀\"])\n",
    "Ψ1 = statevector_to_latex(data[\"Ψ₁\"])\n",
    "Ψ2 = statevector_to_latex(data[\"Ψ₂\"])\n",
    "Ψ3 = statevector_to_latex(data[\"Ψ₃\"])\n",
    "Ψ4 = statevector_to_latex(data[\"Ψ₄\"])\n",
    "\n",
    "state_table = f\"\"\"Stage | State\n",
    "--- | ---\n",
    "init | ${init}$\n",
    "Ψ₀ | ${Ψ0}$\n",
    "Ψ₁ | ${Ψ1}$\n",
    "Ψ₂ | ${Ψ2}$\n",
    "Ψ₃ | ${Ψ3}$\n",
    "Ψ₄ | ${Ψ4}$\n",
    "\"\"\"\n",
    "display(Markdown(state_table))"
   ]
  },
  {
   "cell_type": "markdown",
   "metadata": {},
   "source": [
    "## 3. Verification\n",
    "\n",
    "The state vector result shown above is a little hard to interpret, because Qiskit does not separate the factors of the resulting product state.\n",
    "\n",
    "We can verify the result state by comparing it with the expected state.\n",
    "\n",
    "The cell below uses the [Swap test](https://en.wikipedia.org/wiki/Swap_test) to do this. A fidelity of 1 indicates that the state is the same as the expected state."
   ]
  },
  {
   "cell_type": "code",
   "execution_count": 11,
   "metadata": {},
   "outputs": [
    {
     "data": {
      "image/png": "[encoded data removed]",
      "text/plain": [
       "<Figure size 872.774x535.111 with 1 Axes>"
      ]
     },
     "metadata": {},
     "output_type": "display_data"
    },
    {
     "name": "stdout",
     "output_type": "stream",
     "text": [
      "Fidelity: 1.0\n"
     ]
    }
   ],
   "source": [
    "verification_circuit = create_circuit(create_state(θ, φ), save_statevector=False)\n",
    "q2 = verification_circuit.qubits[2]\n",
    "c = [c0] = ClassicalRegister(1, 'c')\n",
    "v = [v0] = QuantumRegister(1, 'v')\n",
    "a = [a0] = AncillaRegister(1, 'a')\n",
    "verification_circuit.add_register(c)\n",
    "verification_circuit.add_register(v)\n",
    "verification_circuit.add_register(a)\n",
    "verification_circuit.initialize(create_state(θ, φ), v0)\n",
    "\n",
    "# verify state using swap test\n",
    "verification_circuit.h(a0)\n",
    "verification_circuit.cswap(a0, q2, v0)\n",
    "verification_circuit.h(a0)\n",
    "verification_circuit.measure(a0, c0)\n",
    "\n",
    "backend = AerSimulator()\n",
    "sampler = Sampler(backend)\n",
    "shots = 1000\n",
    "job = sampler.run([verification_circuit], shots=shots)\n",
    "result = job.result()\n",
    "counts = result[0].data.c.get_counts()\n",
    "fidelity = counts['0'] / shots\n",
    "\n",
    "display(verification_circuit.draw('mpl'))\n",
    "print(f\"Fidelity: {fidelity}\")\n"
   ]
  },
  {
   "cell_type": "code",
   "execution_count": null,
   "metadata": {},
   "outputs": [],
   "source": []
  }
 ],
 "metadata": {
  "kernelspec": {
   "display_name": ".venv",
   "language": "python",
   "name": "python3"
  },
  "language_info": {
   "codemirror_mode": {
    "name": "ipython",
    "version": 3
   },
   "file_extension": ".py",
   "mimetype": "text/x-python",
   "name": "python",
   "nbconvert_exporter": "python",
   "pygments_lexer": "ipython3",
   "version": "3.10.12"
  }
 },
 "nbformat": 4,
 "nbformat_minor": 2
}
