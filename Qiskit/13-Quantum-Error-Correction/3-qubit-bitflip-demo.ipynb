{
 "cells": [
  {
   "cell_type": "markdown",
   "metadata": {},
   "source": [
    "# 3-Qubit bit flip Quantum Error Correction Code\n",
    "\n",
    "This notebook demonstrates the 3-Qubit bit flip Quantum Error Correction Code from Chapter 13, Quantum Error Correction: A Primer."
   ]
  },
  {
   "cell_type": "markdown",
   "metadata": {},
   "source": [
    "## 0. Setup\n",
    "\n",
    "The cells below install the packages and import the libraries needed by this demo."
   ]
  },
  {
   "cell_type": "code",
   "execution_count": null,
   "metadata": {},
   "outputs": [],
   "source": [
    "#@title Install Qiskit and other dependencies\n",
    "%pip install qiskit qiskit-aer qiskit-ibm-runtime pylatexenc"
   ]
  },
  {
   "cell_type": "code",
   "execution_count": 21,
   "metadata": {},
   "outputs": [],
   "source": [
    "# Imports\n",
    "\n",
    "import math\n",
    "from ipywidgets import interact\n",
    "from IPython.display import display, clear_output\n",
    "from qiskit_aer import AerSimulator\n",
    "from qiskit_ibm_runtime import SamplerV2 as Sampler\n",
    "from qiskit.circuit import AncillaRegister, ClassicalRegister, QuantumCircuit, QuantumRegister\n",
    "from qiskit.transpiler.preset_passmanagers import generate_preset_pass_manager"
   ]
  },
  {
   "cell_type": "markdown",
   "metadata": {},
   "source": [
    "## 1. Circuit Definition\n",
    "\n",
    "The following cell defines the 3-Qubit Bit Flip Quantum Error Correction Code circuit.\n",
    "\n",
    "Refer to **2. Interaction** for configurable options (parameters)."
   ]
  },
  {
   "cell_type": "code",
   "execution_count": 22,
   "metadata": {},
   "outputs": [],
   "source": [
    "def create_circuit(ry=0.0, unitary_op=None, error_bit=-1):\n",
    "    q = [q1, q2, q3] = QuantumRegister(3, name='q')\n",
    "    a = [a1, a2] = AncillaRegister(2, name='a')\n",
    "    o = ClassicalRegister(3, name='output')\n",
    "    s = [s1, s2] = ClassicalRegister(2, name='syndrome')\n",
    "    circuit = QuantumCircuit(q, a, o, s)\n",
    "\n",
    "    if ry != 0.0:\n",
    "        circuit.ry(ry, q1)\n",
    "    circuit.cx(q1, q2)\n",
    "    circuit.cx(q1, q3)\n",
    "    circuit.barrier(label='Ψ₁')\n",
    "    if unitary_op == 'X':\n",
    "        circuit.x(q1)\n",
    "        circuit.x(q2)\n",
    "        circuit.x(q3)\n",
    "    circuit.barrier(label='Ψ₂')\n",
    "    if error_bit != -1:\n",
    "        circuit.x(q[error_bit])\n",
    "    circuit.barrier(label='Ψ₃')\n",
    "    circuit.cx(q1, a1)\n",
    "    circuit.cx(q2, a1)\n",
    "    circuit.cx(q1, a2)\n",
    "    circuit.cx(q3, a2)\n",
    "    circuit.measure(a, s)\n",
    "    with circuit.if_test((s1, 1)):\n",
    "        with circuit.if_test((s2, 1)):\n",
    "            circuit.x(q1)\n",
    "    with circuit.if_test((s1, 1)):\n",
    "        with circuit.if_test((s2, 0)):\n",
    "            circuit.x(q2)\n",
    "    with circuit.if_test((s1, 0)):\n",
    "        with circuit.if_test((s2, 1)):\n",
    "            circuit.x(q3)\n",
    "\n",
    "    circuit.barrier(label='Ψ₄')\n",
    "    circuit.cx(q1, q3)\n",
    "    circuit.cx(q1, q2)\n",
    "    circuit.measure(q, o)\n",
    "    return circuit\n",
    "\n",
    "def run_circuit(circuit):\n",
    "    backend = AerSimulator()\n",
    "    pm = generate_preset_pass_manager(backend=backend, optimization_level=1)\n",
    "    isa_circuit = pm.run(circuit)\n",
    "    sampler = Sampler(backend)\n",
    "    job = sampler.run([isa_circuit], shots=1000)\n",
    "    result = job.result()\n",
    "\n",
    "    output_counts = result[0].data.output.get_counts()\n",
    "    for bits, val in sorted(output_counts.items()):\n",
    "        assert bits[0:2] == \"00\"\n",
    "        bit = bits[2]\n",
    "        print(f\"{bit}\\t{val}\")\n",
    "\n",
    "    syndrome_counts = result[0].data.syndrome.get_counts()\n",
    "    assert len(syndrome_counts) == 1\n",
    "    syndrome = next(iter(syndrome_counts.keys()))\n",
    "    print(f\"{syndrome=}\")"
   ]
  },
  {
   "cell_type": "markdown",
   "metadata": {},
   "source": [
    "## 2. Interaction\n",
    "\n",
    "The cell below displays and runs variants of the circuit for the 3-Qubit Bit Flip Quantum Error Correction Code defined in **1. Circuit Definition**.\n",
    "\n",
    "You can experiment with these parameters:\n",
    "\n",
    "* `ry`: The RY angle for the initialization state. The default input uses an angle of 0, which provides the $|0\\rangle$ state.\n",
    "* `unitary_op`: Optionally apply a logical unitary operation $X_L$ to the input state. \n",
    "* `error_op`: Single qubit to apply a bit flip error to: -1 = no error, 0-2 = error on qubit 0-2."
   ]
  },
  {
   "cell_type": "code",
   "execution_count": 23,
   "metadata": {},
   "outputs": [
    {
     "data": {
      "application/vnd.jupyter.widget-view+json": {
       "model_id": "243988197f5e4e25a8eba901c5a27135",
       "version_major": 2,
       "version_minor": 0
      },
      "text/plain": [
       "interactive(children=(FloatSlider(value=0.0, description='ry', max=3.141592653589793, min=-3.141592653589793, …"
      ]
     },
     "metadata": {},
     "output_type": "display_data"
    },
    {
     "data": {
      "text/plain": [
       "<function __main__.run_interaction(ry=0.0, unitary_op=None, error_bit=-1, diagram=True)>"
      ]
     },
     "execution_count": 23,
     "metadata": {},
     "output_type": "execute_result"
    }
   ],
   "source": [
    "def run_interaction(ry=0.0, unitary_op=None, error_bit=-1, diagram=True):\n",
    "    clear_output(wait=True)\n",
    "    circuit = create_circuit(ry, unitary_op, error_bit)\n",
    "    if diagram:\n",
    "        display(circuit.draw(output=\"mpl\", fold=-1, cregbundle=True))\n",
    "    else:\n",
    "        run_circuit(circuit)\n",
    "\n",
    "interact(run_interaction, ry=(-math.pi, math.pi, math.pi/8), unitary_op=[None, 'X'], error_bit=(-1, 2), diagram=True)"
   ]
  },
  {
   "cell_type": "code",
   "execution_count": null,
   "metadata": {},
   "outputs": [],
   "source": []
  }
 ],
 "metadata": {
  "kernelspec": {
   "display_name": ".venv",
   "language": "python",
   "name": "python3"
  },
  "language_info": {
   "codemirror_mode": {
    "name": "ipython",
    "version": 3
   },
   "file_extension": ".py",
   "mimetype": "text/x-python",
   "name": "python",
   "nbconvert_exporter": "python",
   "pygments_lexer": "ipython3",
   "version": "3.10.12"
  }
 },
 "nbformat": 4,
 "nbformat_minor": 2
}
