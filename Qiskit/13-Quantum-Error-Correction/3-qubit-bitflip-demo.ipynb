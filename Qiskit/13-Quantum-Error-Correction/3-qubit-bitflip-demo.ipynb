{
 "cells": [
  {
   "cell_type": "markdown",
   "metadata": {},
   "source": [
    "# 3-Qubit bit flip Quantum Error Correction Code\n",
    "\n",
    "This notebook demonstrates the 3-Qubit bit flip Quantum Error Correction Code from Chapter 13, Quantum Error Correction: A Primer."
   ]
  },
  {
   "cell_type": "markdown",
   "metadata": {},
   "source": [
    "## 0. Setup\n",
    "\n",
    "The cells below install the packages and import the libraries needed by this demo."
   ]
  },
  {
   "cell_type": "code",
   "execution_count": null,
   "metadata": {},
   "outputs": [],
   "source": [
    "#@title Install Qiskit and other dependencies\n",
    "%pip install qiskit qiskit-aer qiskit-ibm-runtime pylatexenc"
   ]
  },
  {
   "cell_type": "code",
   "execution_count": 6,
   "metadata": {},
   "outputs": [],
   "source": [
    "# Imports\n",
    "\n",
    "from math import cos, sin, pi as π\n",
    "from ipywidgets import interact\n",
    "from IPython.display import display, Markdown\n",
    "from qiskit_aer import AerSimulator\n",
    "from qiskit_ibm_runtime import SamplerV2 as Sampler\n",
    "from qiskit.circuit import AncillaRegister, ClassicalRegister, QuantumCircuit, QuantumRegister\n",
    "from qiskit.quantum_info import partial_trace, Statevector"
   ]
  },
  {
   "cell_type": "markdown",
   "metadata": {},
   "source": [
    "## 1. Circuit Definition\n",
    "\n",
    "The following cell defines the 3-Qubit Bit Flip Quantum Error Correction Code circuit.\n",
    "\n",
    "Refer to **2. Interaction** for configurable options (parameters)."
   ]
  },
  {
   "cell_type": "code",
   "execution_count": 28,
   "metadata": {},
   "outputs": [
    {
     "data": {
      "application/vnd.jupyter.widget-view+json": {
       "model_id": "d506aba6d6e2423d8592b33933ae898b",
       "version_major": 2,
       "version_minor": 0
      },
      "text/plain": [
       "interactive(children=(Dropdown(description='unitary_op', options=('None', 'X'), value='None'), Dropdown(descri…"
      ]
     },
     "metadata": {},
     "output_type": "display_data"
    },
    {
     "data": {
      "text/plain": [
       "<function __main__.show_circuit(unitary_op, error_bit)>"
      ]
     },
     "execution_count": 28,
     "metadata": {},
     "output_type": "execute_result"
    }
   ],
   "source": [
    "def create_state(θ, φ):\n",
    "    α = cos(θ/2)\n",
    "    β = sin(θ/2) * (cos(φ) + 1j * sin(φ)) # exp(iφ) sin(θ/2)\n",
    "    return Statevector([α, β])\n",
    "\n",
    "\n",
    "def create_circuit(initial_state = create_state(0, 0), unitary_op = None, error_bit = -1):\n",
    "    q = [q1, q2, q3] = QuantumRegister(3, name='q')\n",
    "    a = [a1, a2] = AncillaRegister(2, name='a')\n",
    "    o = ClassicalRegister(3, name='output')\n",
    "    s = [s1, s2] = ClassicalRegister(2, name='syndrome')\n",
    "    circuit = QuantumCircuit(q, a, o, s)\n",
    "    circuit.initialize(initial_state, q1)\n",
    "    circuit.save_statevector(label = \"Ψ₀\")\n",
    "    circuit.cx(q1, q2)\n",
    "    circuit.cx(q1, q3)\n",
    "    circuit.save_statevector(label = 'Ψ₁')\n",
    "    if unitary_op == 'X':\n",
    "        circuit.x(q1)\n",
    "        circuit.x(q2)\n",
    "        circuit.x(q3)\n",
    "    circuit.save_statevector(label='Ψ₂')\n",
    "    if error_bit != -1:\n",
    "        circuit.x(q[error_bit])\n",
    "    circuit.save_statevector(label='Ψ₃')\n",
    "    circuit.cx(q1, a1)\n",
    "    circuit.cx(q2, a1)\n",
    "    circuit.cx(q1, a2)\n",
    "    circuit.cx(q3, a2)\n",
    "    circuit.measure(a, s)\n",
    "    with circuit.if_test((s1, 1)):\n",
    "        with circuit.if_test((s2, 1)):\n",
    "            circuit.x(q1)\n",
    "    with circuit.if_test((s1, 1)):\n",
    "        with circuit.if_test((s2, 0)):\n",
    "            circuit.x(q2)\n",
    "    with circuit.if_test((s1, 0)):\n",
    "        with circuit.if_test((s2, 1)):\n",
    "            circuit.x(q3)\n",
    "    circuit.save_statevector(label='Ψ₄')\n",
    "    circuit.cx(q1, q3)\n",
    "    circuit.cx(q1, q2)\n",
    "    circuit.save_statevector(label='Ψ₅')\n",
    "    circuit.measure(q, o)\n",
    "    return circuit\n",
    "\n",
    "\n",
    "def show_circuit(unitary_op, error_bit):\n",
    "    circuit = create_circuit(unitary_op = unitary_op, error_bit = error_bit)\n",
    "    display(circuit.draw('mpl', fold = -1))\n",
    "\n",
    "\n",
    "interact(show_circuit, unitary_op = ['None', 'X'], error_bit = [-1, 0, 1, 2])"
   ]
  },
  {
   "cell_type": "markdown",
   "metadata": {},
   "source": [
    "## 2. Interaction\n",
    "\n",
    "The cell below displays and runs variants of the circuit for the 3-Qubit Bit Flip Quantum Error Correction Code defined in **1. Circuit Definition**, and shows the state vector resulting at each stage of the computation.\n",
    "\n",
    "You can experiment with $\\theta$ and $\\phi$ to create a general input state\n",
    "$$\n",
    "|\\psi\\rangle = \\cos\\frac{\\theta}{2}|0\\rangle + e^{i\\phi}\\sin\\frac{\\theta}{2}|1\\rangle\n",
    "$$\n",
    "and observe the execution of the circuit.\n",
    "\n",
    "Some examples are:\n",
    "\n",
    "| State | $\\theta$ | $\\phi$ |\n",
    "|-------|----------|--------|\n",
    "| $\\|0\\rangle$ | 0 | 0 |\n",
    "| $\\|1\\rangle$ | $\\pi$ | 0 |\n",
    "| $\\frac{1}{\\sqrt{2}}(\\|0\\rangle + i\\|1\\rangle)$ | $\\frac{\\pi}{2}$ | $\\frac{\\pi}{2}$ |\n",
    "\n",
    "You can also experiment with these parameters:\n",
    "\n",
    "* `unitary_op`: Optionally apply a logical unitary operation $X_L$ to the input state. \n",
    "* `error_op`: Single qubit to apply a bit flip error to: -1 = no error, 0-2 = error on qubit 0-2."
   ]
  },
  {
   "cell_type": "code",
   "execution_count": 29,
   "metadata": {},
   "outputs": [
    {
     "data": {
      "text/markdown": [
       "Stage | State\n",
       "---    | ---\n",
       "Input  | $ \\|1\\rangle$\n",
       "Ψ₀     | $ \\|00001\\rangle$\n",
       "Ψ₁     | $ \\|00111\\rangle$\n",
       "Ψ₂     | $ \\|00111\\rangle$\n",
       "Ψ₃     | $ \\|00101\\rangle$\n",
       "Ψ₄     | $ \\|01111\\rangle$\n",
       "Ψ₅     | $ \\|01001\\rangle$\n",
       "Output | $ \\|1\\rangle$\n"
      ],
      "text/plain": [
       "<IPython.core.display.Markdown object>"
      ]
     },
     "metadata": {},
     "output_type": "display_data"
    },
    {
     "data": {
      "text/markdown": [
       "Output bit | Count\n",
       "--- | ---\n",
       "1|1000\n"
      ],
      "text/plain": [
       "<IPython.core.display.Markdown object>"
      ]
     },
     "metadata": {},
     "output_type": "display_data"
    },
    {
     "data": {
      "text/markdown": [
       "Syndrome (from the leftmost two qubits in Ψ₅) = 01"
      ],
      "text/plain": [
       "<IPython.core.display.Markdown object>"
      ]
     },
     "metadata": {},
     "output_type": "display_data"
    }
   ],
   "source": [
    "# Basis state |0⟩\n",
    "# θ = 0\n",
    "# φ = 0\n",
    "\n",
    "# Basis state |1⟩\n",
    "θ = π\n",
    "φ = 0\n",
    "\n",
    "# Another state: 1/√2 (|0⟩ + i|1⟩)\n",
    "# θ = π/2\n",
    "# φ = π/2\n",
    "\n",
    "# Unitary operation: X (optional)\n",
    "unitary_op = None\n",
    "# unitary_op = 'X'\n",
    "\n",
    "# Error bit: -1 is no error, otherwise error on qubit 0, 1, or 2\n",
    "error_bit = 1\n",
    "\n",
    "circuit = create_circuit(create_state(θ, φ), unitary_op = unitary_op, error_bit = error_bit)\n",
    "simulator = AerSimulator()\n",
    "result = simulator.run(circuit).result()\n",
    "data = result.data(0)\n",
    "Ψ0 = data[\"Ψ₀\"]\n",
    "input = partial_trace(Ψ0, [1, 2, 3, 4]).to_statevector() # extract the state of just the input qubit (q0)\n",
    "Ψ1 = data[\"Ψ₁\"]\n",
    "Ψ2 = data[\"Ψ₂\"]\n",
    "Ψ3 = data[\"Ψ₃\"]\n",
    "Ψ4 = data[\"Ψ₄\"]\n",
    "Ψ5 = data[\"Ψ₅\"]\n",
    "output = partial_trace(Ψ5, [1, 2, 3, 4]).to_statevector() # extract the state of just the output qubit (q0)\n",
    "\n",
    "\n",
    "def fmt_sv(statevector):\n",
    "    return statevector.draw('latex_source').replace('|', r'\\|') # escape | for use in Markdown table\n",
    "\n",
    "\n",
    "display(Markdown(f\"\"\"Stage | State\n",
    "---    | ---\n",
    "Input  | ${fmt_sv(input)}$\n",
    "Ψ₀     | ${fmt_sv(Ψ0)}$\n",
    "Ψ₁     | ${fmt_sv(Ψ1)}$\n",
    "Ψ₂     | ${fmt_sv(Ψ2)}$\n",
    "Ψ₃     | ${fmt_sv(Ψ3)}$\n",
    "Ψ₄     | ${fmt_sv(Ψ4)}$\n",
    "Ψ₅     | ${fmt_sv(Ψ5)}$\n",
    "Output | ${fmt_sv(output)}$\n",
    "\"\"\"))\n",
    "\n",
    "sampler = Sampler(simulator)\n",
    "job = sampler.run([circuit], shots=1000)\n",
    "result = job.result()\n",
    "\n",
    "output_counts = result[0].data.output.get_counts()\n",
    "counts_table = \"\"\"Output bit | Count\n",
    "--- | ---\n",
    "\"\"\"\n",
    "for bits, val in sorted(output_counts.items()):\n",
    "    assert bits[0:2] == \"00\"\n",
    "    bit = bits[2]\n",
    "    counts_table += f\"{bit}|{val}\\n\"\n",
    "\n",
    "display(Markdown(counts_table))\n",
    "syndrome_counts = result[0].data.syndrome.get_counts()\n",
    "assert len(syndrome_counts) == 1\n",
    "syndrome = next(iter(syndrome_counts.keys()))\n",
    "display(Markdown(f\"Syndrome (from the leftmost two qubits in Ψ₅) = {syndrome}\"))"
   ]
  }
 ],
 "metadata": {
  "kernelspec": {
   "display_name": ".venv",
   "language": "python",
   "name": "python3"
  },
  "language_info": {
   "codemirror_mode": {
    "name": "ipython",
    "version": 3
   },
   "file_extension": ".py",
   "mimetype": "text/x-python",
   "name": "python",
   "nbconvert_exporter": "python",
   "pygments_lexer": "ipython3",
   "version": "3.10.12"
  }
 },
 "nbformat": 4,
 "nbformat_minor": 2
}
