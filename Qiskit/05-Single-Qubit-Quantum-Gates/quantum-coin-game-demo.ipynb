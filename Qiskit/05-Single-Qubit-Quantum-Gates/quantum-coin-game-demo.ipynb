{
 "cells": [
  {
   "cell_type": "markdown",
   "metadata": {},
   "source": [
    "# Quantum Coin Game\n",
    "\n",
    "This notebook demonstrates the Quantum Coin Game from Chapter 5, Single-Qubit Quantum Gates."
   ]
  },
  {
   "cell_type": "markdown",
   "metadata": {},
   "source": [
    "## 0. Setup\n",
    "\n",
    "The cells below install the packages and import the libraries needed by this demo."
   ]
  },
  {
   "cell_type": "code",
   "execution_count": null,
   "metadata": {},
   "outputs": [],
   "source": [
    "#@title Install Qiskit and other dependencies\n",
    "%pip install qiskit qiskit-aer qiskit-ibm-runtime pylatexenc"
   ]
  },
  {
   "cell_type": "code",
   "execution_count": 6,
   "metadata": {},
   "outputs": [],
   "source": [
    "# Imports\n",
    "\n",
    "from math import pi as π\n",
    "from IPython.display import display, Markdown\n",
    "from qiskit_aer import AerSimulator\n",
    "from qiskit.circuit import ClassicalRegister, QuantumCircuit, QuantumRegister\n",
    "from qiskit.quantum_info import Statevector"
   ]
  },
  {
   "cell_type": "markdown",
   "metadata": {},
   "source": [
    "## 1. Alice Always Wins\n",
    "\n",
    "Below is the first example, where Alice employs the Hadamard gate, and wins whether Bob uses the $X$ gate or the $I$ (identity) gate (i.e. does nothing)."
   ]
  },
  {
   "cell_type": "code",
   "execution_count": 7,
   "metadata": {},
   "outputs": [
    {
     "data": {
      "text/markdown": [
       "## Circuit for Bob chooses $X$"
      ],
      "text/plain": [
       "<IPython.core.display.Markdown object>"
      ]
     },
     "metadata": {},
     "output_type": "display_data"
    },
    {
     "data": {
      "image/png": "[encoded data removed]",
      "text/plain": [
       "<Figure size 352.675x117.056 with 1 Axes>"
      ]
     },
     "metadata": {},
     "output_type": "display_data"
    },
    {
     "data": {
      "text/markdown": [
       "Result: $ |0\\rangle$"
      ],
      "text/plain": [
       "<IPython.core.display.Markdown object>"
      ]
     },
     "metadata": {},
     "output_type": "display_data"
    },
    {
     "data": {
      "text/markdown": [
       "## Circuit for Bob chooses $I$"
      ],
      "text/plain": [
       "<IPython.core.display.Markdown object>"
      ]
     },
     "metadata": {},
     "output_type": "display_data"
    },
    {
     "data": {
      "image/png": "[encoded data removed]",
      "text/plain": [
       "<Figure size 352.675x117.056 with 1 Axes>"
      ]
     },
     "metadata": {},
     "output_type": "display_data"
    },
    {
     "data": {
      "text/markdown": [
       "Result: $ |0\\rangle$"
      ],
      "text/plain": [
       "<IPython.core.display.Markdown object>"
      ]
     },
     "metadata": {},
     "output_type": "display_data"
    }
   ],
   "source": [
    "def make_circuit1(bob_x = False):\n",
    "    q = [q0] = QuantumRegister(1, 'q')\n",
    "    circuit = QuantumCircuit(q)\n",
    "    circuit.h(q0)       # Alice\n",
    "    if bob_x:\n",
    "        circuit.x(q0)   # Bob: X\n",
    "    else:\n",
    "        circuit.id(q0)  # Bob: I\n",
    "    circuit.h(q0)       # Alice\n",
    "    return circuit\n",
    "\n",
    "\n",
    "display(Markdown('## Circuit for Bob chooses $X$'))\n",
    "circuit_bob_x = make_circuit1(bob_x=True)\n",
    "display(circuit_bob_x.draw('mpl'))\n",
    "sv_x = Statevector.from_instruction(circuit_bob_x)\n",
    "display(Markdown(f\"Result: ${sv_x.draw('latex_source')}$\"))\n",
    "\n",
    "display(Markdown('## Circuit for Bob chooses $I$'))\n",
    "circuit_bob_i = make_circuit1(bob_x=False)\n",
    "display(circuit_bob_i.draw('mpl'))\n",
    "sv_i = Statevector.from_instruction(circuit_bob_i)\n",
    "display(Markdown(f\"Result: ${sv_i.draw('latex_source')}$\"))\n",
    "\n"
   ]
  },
  {
   "cell_type": "markdown",
   "metadata": {},
   "source": [
    "## 2. Bob's Strategy Shift\n",
    "\n",
    "Below is the second example, where Bob switches to the $Y$ gate."
   ]
  },
  {
   "cell_type": "code",
   "execution_count": 8,
   "metadata": {},
   "outputs": [
    {
     "data": {
      "text/markdown": [
       "## Circuit for Bob chooses $Y$"
      ],
      "text/plain": [
       "<IPython.core.display.Markdown object>"
      ]
     },
     "metadata": {},
     "output_type": "display_data"
    },
    {
     "data": {
      "image/png": "[encoded data removed]",
      "text/plain": [
       "<Figure size 352.675x117.056 with 1 Axes>"
      ]
     },
     "metadata": {},
     "output_type": "display_data"
    },
    {
     "data": {
      "text/markdown": [
       "Result: $- i |1\\rangle$"
      ],
      "text/plain": [
       "<IPython.core.display.Markdown object>"
      ]
     },
     "metadata": {},
     "output_type": "display_data"
    }
   ],
   "source": [
    "def make_circuit2():\n",
    "    q = [q0] = QuantumRegister(1, 'q')\n",
    "    circuit = QuantumCircuit(q)\n",
    "    circuit.h(q0)       # Alice\n",
    "    circuit.y(q0)       # Bob: Y\n",
    "    circuit.h(q0)       # Alice\n",
    "    return circuit\n",
    "\n",
    "\n",
    "display(Markdown('## Circuit for Bob chooses $Y$'))\n",
    "circuit_bob_y = make_circuit2()\n",
    "display(circuit_bob_y.draw('mpl'))\n",
    "sv_y = Statevector.from_instruction(circuit_bob_y)\n",
    "display(Markdown(f\"Result: ${sv_y.draw('latex_source')}$\"))"
   ]
  },
  {
   "cell_type": "markdown",
   "metadata": {},
   "source": [
    "## 3. Alice Overcomes Bob's New Gambit\n",
    "\n",
    "Below is one way which Alice can win, when Bob uses the $Y$ gate.\n",
    "\n",
    "As stated in the book:\n",
    "$$\n",
    "X H Y H |0\\rangle = i|0\\rangle\n",
    "$$\n",
    "\n",
    "Therefore Alice uses the gate sequence $H$, $X$ after Bob's $Y$ gate."
   ]
  },
  {
   "cell_type": "code",
   "execution_count": 9,
   "metadata": {},
   "outputs": [
    {
     "data": {
      "text/markdown": [
       "## Circuit for Alice applies $X$ after $H$"
      ],
      "text/plain": [
       "<IPython.core.display.Markdown object>"
      ]
     },
     "metadata": {},
     "output_type": "display_data"
    },
    {
     "data": {
      "image/png": "[encoded data removed]",
      "text/plain": [
       "<Figure size 436.286x117.056 with 1 Axes>"
      ]
     },
     "metadata": {},
     "output_type": "display_data"
    },
    {
     "data": {
      "text/markdown": [
       "Result: $- i |0\\rangle$"
      ],
      "text/plain": [
       "<IPython.core.display.Markdown object>"
      ]
     },
     "metadata": {},
     "output_type": "display_data"
    }
   ],
   "source": [
    "def make_circuit3():\n",
    "    q = [q0] = QuantumRegister(1, 'q')\n",
    "    circuit = QuantumCircuit(q)\n",
    "    circuit.h(q0)       # Alice\n",
    "    circuit.y(q0)       # Bob: Y\n",
    "    circuit.h(q0)       # Alice\n",
    "    circuit.x(q0)       # Alice\n",
    "    return circuit\n",
    "\n",
    "\n",
    "display(Markdown('## Circuit for Alice applies $X$ after $H$'))\n",
    "circuit_alice_hx_sequence = make_circuit3()\n",
    "display(circuit_alice_hx_sequence.draw('mpl'))\n",
    "sv_alice_hx_sequence = Statevector.from_instruction(circuit_alice_hx_sequence)\n",
    "display(Markdown(f\"Result: ${sv_alice_hx_sequence.draw('latex_source')}$\"))\n"
   ]
  },
  {
   "cell_type": "code",
   "execution_count": null,
   "metadata": {},
   "outputs": [],
   "source": []
  }
 ],
 "metadata": {
  "kernelspec": {
   "display_name": ".venv",
   "language": "python",
   "name": "python3"
  },
  "language_info": {
   "codemirror_mode": {
    "name": "ipython",
    "version": 3
   },
   "file_extension": ".py",
   "mimetype": "text/x-python",
   "name": "python",
   "nbconvert_exporter": "python",
   "pygments_lexer": "ipython3",
   "version": "3.10.12"
  }
 },
 "nbformat": 4,
 "nbformat_minor": 2
}
