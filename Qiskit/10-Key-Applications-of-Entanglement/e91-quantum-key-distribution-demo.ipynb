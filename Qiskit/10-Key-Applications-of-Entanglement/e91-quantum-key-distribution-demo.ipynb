{
 "cells": [
  {
   "cell_type": "markdown",
   "metadata": {},
   "source": [
    "# E91 Quantum Key Distribution\n",
    "\n",
    "This notebook demonstrates the E91 Quantum Key Distribution protocol from Chapter 10, Key Applications of Entanglement.\n",
    "\n",
    "[![Open In Binder](https://mybinder.org/badge_logo.svg)](https://mybinder.org/v2/gh/Polaris-QCI/Quantum-Computing-and-Information-ed2/main?labpath=Qiskit%2F10-Key-Applications-of-Entanglement%2Fe91-quantum-key-distribution-demo.ipynb)\n",
    "[![Open In Colab](https://colab.research.google.com/assets/colab-badge.svg)](https://colab.research.google.com/github/Polaris-QCI/Quantum-Computing-and-Information-ed2/blob/main/Qiskit/10-Key-Applications-of-Entanglement/e91-quantum-key-distribution-demo.ipynb)"
   ]
  },
  {
   "cell_type": "markdown",
   "metadata": {},
   "source": [
    "## 0. Setup\n",
    "\n",
    "The cells below install the packages and import the libraries needed by this demo."
   ]
  },
  {
   "cell_type": "code",
   "execution_count": null,
   "metadata": {},
   "outputs": [],
   "source": [
    "#@title Install Qiskit and other dependencies\n",
    "%pip install pylatexenc qiskit qiskit-aer qiskit-ibm-runtime"
   ]
  },
  {
   "cell_type": "code",
   "execution_count": 2,
   "metadata": {},
   "outputs": [],
   "source": [
    "# Imports\n",
    "\n",
    "import random\n",
    "from IPython.display import display, Markdown\n",
    "from math import cos, sin, pi as π\n",
    "from qiskit_aer import AerSimulator\n",
    "from qiskit_ibm_runtime import SamplerV2 as Sampler\n",
    "from qiskit.circuit import ClassicalRegister, QuantumCircuit, QuantumRegister"
   ]
  },
  {
   "cell_type": "markdown",
   "metadata": {},
   "source": [
    "## 1. E91 bit\n",
    "\n",
    "The next cell implements the E91 protocol for a single potential key bit. "
   ]
  },
  {
   "cell_type": "code",
   "execution_count": 3,
   "metadata": {},
   "outputs": [],
   "source": [
    "def e91_bit():\n",
    "    q = [q0, q1] = QuantumRegister(2)\n",
    "    c = ClassicalRegister(2, 'c')\n",
    "    circuit = QuantumCircuit(q, c)\n",
    "\n",
    "    # Generate the Ψ⁻ Bell state\n",
    "    circuit.x(q0)\n",
    "    circuit.x(q1)\n",
    "    circuit.h(q0)\n",
    "    circuit.cx(q0, q1)\n",
    "\n",
    "    # Alice's basis choices\n",
    "    # a1 = Z (no rotation needed)\n",
    "    # a2 = W = 1/√2(Z+X)\n",
    "    # a3 = X\n",
    "    rand = random.randint(0, 2)\n",
    "    if rand == 0:  # Z basis\n",
    "        alice_basis = \"a1\"\n",
    "    if rand == 1:  # W basis\n",
    "        alice_basis = \"a2\"\n",
    "        circuit.ry(-π/4, q0)\n",
    "    elif rand == 2:  # X basis\n",
    "        alice_basis = \"a3\"\n",
    "        circuit.h(q0)\n",
    "\n",
    "    # Bob's basis choices\n",
    "    # b1 = W = 1/√2(Z+X)\n",
    "    # b2 = X\n",
    "    # b3 = V = 1/√2(Z-X)\n",
    "    rand = random.randint(0, 2)\n",
    "    if rand == 0:  # W basis\n",
    "        bob_basis = \"b1\"\n",
    "        circuit.ry(-π/4, q1)\n",
    "    elif rand == 1:  # X basis\n",
    "        bob_basis = \"b2\"\n",
    "        circuit.h(q1)\n",
    "    else:  # V basis\n",
    "        bob_basis = \"b3\"\n",
    "        circuit.ry(π/4, q1)\n",
    "\n",
    "    circuit.measure(q, c)\n",
    "\n",
    "    simulator = AerSimulator()\n",
    "    sampler = Sampler(simulator)\n",
    "    job = sampler.run([circuit], shots=1)\n",
    "    job_result = job.result()\n",
    "    result = next(iter(job_result[0].data.c.get_counts().keys()))\n",
    "    alice_result = result[0]\n",
    "    bob_result = result[1]\n",
    "    return {\n",
    "        \"alice_basis\": alice_basis,\n",
    "        \"bob_basis\": bob_basis,\n",
    "        \"alice_result\": alice_result,\n",
    "        \"bob_result\": bob_result,\n",
    "    }\n"
   ]
  },
  {
   "cell_type": "code",
   "execution_count": 6,
   "metadata": {},
   "outputs": [
    {
     "data": {
      "text/markdown": [
       "| # | Alice Basis | Bob Basis | Use for Key | Measurement Result | Use for Checking |\n",
       "|---|-------------|-----------|-------------|----------------|--------------|\n",
       "| 1 | a2 | b2 |   | 0 | ✗ |\n",
       "| 2 | a2 | b3 |   | 0 | ✗ |\n",
       "| 3 | a1 | b2 |   | 0 | ✗ |\n",
       "| 4 | a2 | b2 |   | 0 | ✗ |\n",
       "| 5 | a3 | b2 | ✓ | **0** | ✗ |\n",
       "| 6 | a3 | b1 |   | 0 | ✓ |\n",
       "| 7 | a3 | b3 |   | 0 | ✓ |\n",
       "| 8 | a3 | b3 |   | 1 | ✓ |\n",
       "| 9 | a2 | b1 | ✓ | **1** | ✗ |\n",
       "| 10 | a1 | b2 |   | 0 | ✗ |\n",
       "| 11 | a1 | b2 |   | 1 | ✗ |\n",
       "| 12 | a3 | b2 | ✓ | **1** | ✗ |\n",
       "| 13 | a1 | b3 |   | 1 | ✓ |\n",
       "| 14 | a3 | b2 | ✓ | **1** | ✗ |\n",
       "| 15 | a3 | b1 |   | 0 | ✓ |\n",
       "| 16 | a1 | b1 |   | 1 | ✓ |\n",
       "| 17 | a3 | b1 |   | 1 | ✓ |\n",
       "| 18 | a2 | b3 |   | 1 | ✗ |\n",
       "| 19 | a2 | b3 |   | 0 | ✗ |\n",
       "| 20 | a2 | b1 | ✓ | **0** | ✗ |\n"
      ],
      "text/plain": [
       "<IPython.core.display.Markdown object>"
      ]
     },
     "metadata": {},
     "output_type": "display_data"
    }
   ],
   "source": [
    "output =  \"| # | Alice Basis | Bob Basis | Use for Key | Measurement Result | Use for Checking |\\n\"\n",
    "output += \"|---|-------------|-----------|-------------|----------------|--------------|\\n\"\n",
    "for i in range(20):\n",
    "    bit = e91_bit()\n",
    "    alice_basis = bit['alice_basis']\n",
    "    bob_basis = bit['bob_basis']\n",
    "    use_for_key = \"✓\" if alice_basis == \"a2\" and bob_basis == \"b1\" or alice_basis == \"a3\" and bob_basis == \"b2\" else \" \"\n",
    "    measurement_result = f\"**{bit['alice_result']}**\" if use_for_key == \"✓\" else bit['alice_result']\n",
    "    use_for_checking = \"✓\" if alice_basis != \"a2\" and bob_basis != \"b2\" else \"✗\"\n",
    "    output += f\"| {i+1} | {alice_basis} | {bob_basis} | {use_for_key} | {measurement_result} | {use_for_checking} |\\n\"\n",
    "display(Markdown(output))"
   ]
  },
  {
   "cell_type": "code",
   "execution_count": null,
   "metadata": {},
   "outputs": [],
   "source": []
  }
 ],
 "metadata": {
  "kernelspec": {
   "display_name": "venv",
   "language": "python",
   "name": "python3"
  },
  "language_info": {
   "codemirror_mode": {
    "name": "ipython",
    "version": 3
   },
   "file_extension": ".py",
   "mimetype": "text/x-python",
   "name": "python",
   "nbconvert_exporter": "python",
   "pygments_lexer": "ipython3",
   "version": "3.12.3"
  }
 },
 "nbformat": 4,
 "nbformat_minor": 2
}
